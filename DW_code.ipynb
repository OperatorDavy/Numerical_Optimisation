{
 "cells": [
  {
   "cell_type": "code",
   "execution_count": 2,
   "metadata": {
    "collapsed": true
   },
   "outputs": [],
   "source": [
    "%matplotlib inline\n",
    "import random\n",
    "import numpy as np\n",
    "from matplotlib import pyplot as plt\n",
    "from mpl_toolkits import mplot3d\n",
    "import time\n",
    "\n",
    "class Timer:    \n",
    "    def __enter__(self):\n",
    "        self.start = time.time()\n",
    "        return self\n",
    "\n",
    "    def __exit__(self, *args):\n",
    "        self.end = time.time()\n",
    "        self.interval = self.end - self.start"
   ]
  },
  {
   "cell_type": "markdown",
   "metadata": {},
   "source": [
    "Making Synthetic Data"
   ]
  },
  {
   "cell_type": "code",
   "execution_count": 4,
   "metadata": {},
   "outputs": [
    {
     "data": {
      "text/plain": [
       "[<matplotlib.lines.Line2D at 0x1169adfd0>]"
      ]
     },
     "execution_count": 4,
     "metadata": {},
     "output_type": "execute_result"
    },
    {
     "data": {
      "image/png": "[encoded data removed]",
      "text/plain": [
       "<matplotlib.figure.Figure at 0x1169947b8>"
      ]
     },
     "metadata": {},
     "output_type": "display_data"
    }
   ],
   "source": [
    "pos_a = np.random.uniform(low=0, high=2*np.pi, size=200)\n",
    "pos_b = np.random.uniform(low=1.3, high=3, size=200)\n",
    "neg_a = np.random.uniform(low=0, high=2*np.pi, size=200)\n",
    "neg_b = np.random.uniform(low=0, high=1.7, size=200)\n",
    "\n",
    "def cart(l, n):\n",
    "    x = l * np.cos(n)\n",
    "    y = l * np.sin(n)\n",
    "    return(x, y)\n",
    "pos_x, pos_y = cart(pos_b, pos_a)\n",
    "neg_x, neg_y = cart(neg_b, neg_a)\n",
    "plt.figure(figsize=(6,6))\n",
    "plt.plot(pos_x, pos_y, 'bx')\n",
    "plt.plot(neg_x, neg_y, 'r.')"
   ]
  },
  {
   "cell_type": "code",
   "execution_count": 258,
   "metadata": {
    "collapsed": true
   },
   "outputs": [],
   "source": []
  },
  {
   "cell_type": "code",
   "execution_count": 259,
   "metadata": {
    "collapsed": true
   },
   "outputs": [],
   "source": []
  },
  {
   "cell_type": "code",
   "execution_count": 263,
   "metadata": {
    "collapsed": true
   },
   "outputs": [],
   "source": [
    "\"\"\"Kernel functions\"\"\"\n",
    "def K_Gauss(x, y, gamma):\n",
    "    K = np.exp(- gamma * (np.linalg.norm(x - y) ** 2))\n",
    "    return K\n",
    "def K_Laplace(x, y, sigma):\n",
    "    K = np.exp(- np.linalg.norm(x - y) / sigma)\n",
    "    return K\n",
    "\n",
    "def F(x, y, i, alpha, b, kernel_type = 'Laplace'):\n",
    "    F = 0\n",
    "    if kernel_type == 'Gaussian':\n",
    "        for j in range(np.size(y)):\n",
    "            F += alpha[j] * y[j] * K_Gauss(x[j], x[i], gamma_gauss)\n",
    "    elif kernel_type == 'Laplace':\n",
    "        for j in range(np.size(y)):\n",
    "            F += alpha[j] * y[j] * K_Laplace(x[j], x[i], sigma)\n",
    "    return F + b\n",
    "\n",
    "def predict(x, y, point, alpha, b, kernel_type = 'Laplace'):\n",
    "    F_tot = 0\n",
    "    if kernel_type == 'Gaussian':\n",
    "        for j in range(np.size(y)):\n",
    "            F_tot += alpha[j] * y[j] * K_Gauss(x[j], point, gamma_gauss)\n",
    "    elif kernel_type == 'Laplace':\n",
    "        for j in range(np.size(y)):\n",
    "            F_tot += alpha[j] * y[j] * K_Laplace(x[j], point, sigma)\n",
    "    ff = F_tot + b\n",
    "    if ff >= 0:\n",
    "        return 1\n",
    "    if ff < 0:\n",
    "        return -1"
   ]
  },
  {
   "cell_type": "code",
   "execution_count": 264,
   "metadata": {
    "collapsed": true
   },
   "outputs": [],
   "source": []
  },
  {
   "cell_type": "code",
   "execution_count": 5,
   "metadata": {
    "collapsed": true
   },
   "outputs": [],
   "source": [
    "def SMO(C, tol, max_cycle, x, y, kernel_type = 'Gaussian'):\n",
    "    \n",
    "    def give_b(kernel_type):\n",
    "        if kernel_type == 'Gaussian':\n",
    "            b1 = b - E_i - y[i] * (alpha[i] - alpha_prev_i) * K_Gauss(x[i], x[i], gamma_gauss) \n",
    "            - y[j] * (alpha[j] - alpha_prev_j) * K_Gauss(x[j], x[j], gamma_gauss)\n",
    "            b2 = b - E_j - y[i] * (alpha[i] - alpha_prev_i) * K_Gauss(x[i], x[i], gamma_gauss) \n",
    "            - y[j] * (alpha[j] - alpha_prev_j) * K_Gauss(x[j], x[j], gamma_gauss)\n",
    "        elif kernel_type == 'Laplace':\n",
    "            b1 = b - E_i - y[i] * (alpha[i] - alpha_prev_i) * K_Laplace(x[i], x[i], sigma) \n",
    "            - y[j] * (alpha[j] - alpha_prev_j) * K_Laplace(x[j], x[j], sigma)\n",
    "            b2 = b - E_j - y[i] * (alpha[i] - alpha_prev_i) * K_Laplace(x[i], x[i], sigma) \n",
    "            - y[j] * (alpha[j] - alpha_prev_j) * K_Laplace(x[j], x[j], sigma)\n",
    "        return b1, b2\n",
    "    \n",
    "    def give_eta(kernel_type):\n",
    "        if kernel_type == 'Gaussian':\n",
    "            eta = 2 * K_Gauss(x[i], x[j], gamma_gauss) - K_Gauss(\n",
    "                x[i], x[i], gamma_gauss) - K_Gauss(x[j], x[j], gamma_gauss)\n",
    "        elif kernel_type == 'Laplace':\n",
    "            eta = 2 * K_Laplace(x[i], x[j], sigma) - K_Laplace(\n",
    "                x[i], x[i], sigma) - K_Laplace(x[j], x[j], sigma)    \n",
    "        return eta\n",
    "    \n",
    "    cycle = 0\n",
    "    b = 0\n",
    "    N = np.size(y)\n",
    "    total_t = 0\n",
    "    k = 0\n",
    "    alpha = np.ones(np.size(y))\n",
    "    alpha_prev = np.ones(np.size(y))\n",
    "    ALPHAS = []\n",
    "    while (cycle< max_cycle and np.linalg.norm(\n",
    "        alpha - alpha_prev) / np.linalg.norm(alpha_prev) > tol) or cycle < 2:\n",
    "        ALPHAS.append(np.linalg.norm(\n",
    "        alpha - alpha_prev) / np.linalg.norm(alpha_prev))\n",
    "        alpha_prev = np.array(list(alpha))\n",
    "        with Timer() as t:\n",
    "            alphas_changed = 0\n",
    "            for i in range(N):\n",
    "                E_i = F(x, y, i, alpha, b, kernel_type) - y[i]\n",
    "                if (y[i] * E_i < -tol and alpha[i] < C) or (y[i] * E_i > tol and alpha[i] > 0):\n",
    "\n",
    "                    \n",
    "                    j = random.randint(0,N - 1)\n",
    "                    while j == i:\n",
    "                        j = random.randint(0,N - 1)\n",
    "\n",
    "                    \n",
    "                    E_j = F(x, y, j, alpha, b, kernel_type) - y[j]\n",
    "                    alpha_prev_i = alpha[i]\n",
    "                    alpha_prev_j = alpha[j]\n",
    "                    if y[i] == y[j]:\n",
    "                        L = max([0, alpha[i] + alpha[j] - C])\n",
    "                        H = min([C, alpha[i] + alpha[j]])\n",
    "                    elif y[i] != y[j]:\n",
    "                        L = max([0, alpha[j] - alpha[i]])\n",
    "                        H = min([C, C + alpha[j] - alpha[i]])\n",
    "\n",
    "                    if L != H:\n",
    "                        eta = give_eta(kernel_type)               \n",
    "                        if eta <= 0:\n",
    "                            alpha[j] = alpha[j] - y[j] * (E_i - E_j) / eta\n",
    "                            if alpha[j] > H:\n",
    "                                alpha[j] = H\n",
    "                            elif alpha[j] < L:\n",
    "                                alpha[j] = L\n",
    "\n",
    "                            if  abs(alpha[j] - alpha_prev_j) >= tol:\n",
    "                                alpha[i] = alpha[i] + y[i] * y[j] * (alpha_prev_j - alpha[j])\n",
    "\n",
    "                                \n",
    "                                b1, b2 =give_b(kernel_type)\n",
    "                                \n",
    "                                if 0 < alpha[i] < C:\n",
    "                                    b = b1\n",
    "                                elif 0 < alpha[j] < C:\n",
    "                                    b = b2\n",
    "                                else:\n",
    "                                    b = (b1 + b2) / 2\n",
    "                                alphas_changed += 1\n",
    "\n",
    "\n",
    "            if alphas_changed != 0:\n",
    "                cycle += 1\n",
    "            else:\n",
    "                cycle == 0\n",
    "        total_t += t.interval\n",
    "    print(\"total iterations: \", cycle)\n",
    "    print(\" average time for each iteration: \", total_t / cycle, \" s/iteration\")\n",
    "    return alpha, b"
   ]
  },
  {
   "cell_type": "code",
   "execution_count": 265,
   "metadata": {
    "collapsed": true
   },
   "outputs": [],
   "source": [
    "def ALM(C, tol, max_cycle, x, y, kernel_type = 'Gaussian'):\n",
    "\n",
    "    max_iterations = 10000\n",
    "    gamma = np.ones((N, 2)) * 0.005\n",
    "    alpha = np.zeros((N,1))\n",
    "    mu = 0.05\n",
    "    b_or = np.ones((N,1))\n",
    "    b = np.ones((N,1))\n",
    "    L = np.zeros((N, N))\n",
    "    U = np.zeros((N, N))\n",
    "    lambda_k = 0.05\n",
    "    iterations = 0\n",
    "    total_time = 0\n",
    "    N = np.size(y)\n",
    "    A_ = np.zeros((N, N))\n",
    "    A = np.zeros((N, N))\n",
    "    y = np.array([list(y)]).transpose()\n",
    "    x = x.transpose()\n",
    "    l = np.zeros((N,1))\n",
    "    u = np.ones((N,1))\n",
    "    \n",
    "\n",
    "    while iterations < max_iterations:\n",
    "        with Timer() as t:\n",
    "            alpha_prev = np.array(list(alpha))\n",
    "            for i in range(N):\n",
    "                for j in range(N):\n",
    "                    if kernel_type == 'Gaussian':\n",
    "                        kij = K_Gauss(x[:, i], x[:, j], gamma_gauss)\n",
    "                    elif kernel_type == 'Laplace':\n",
    "                        kij = K_Laplace(x[:, i], x[:, j], sigma)\n",
    "                    A_[i, j] = kij * y[i] * y[j]\n",
    "                    if i == j:\n",
    "                        if gamma[i, 0] + mu * (l[i] - alpha[i]) < 0:\n",
    "                            L[i, j] = 0\n",
    "                        else:\n",
    "                            L[i, j] = 1\n",
    "                        if gamma[i, 0] + mu * (alpha[i] - u[i]) < 0:\n",
    "                            U[i, j] = 0\n",
    "                        else:\n",
    "                            U[i, j] = 1\n",
    "            A = A_ + mu * (y.dot(y.transpose()) + L + U)\n",
    "            b = b_or - lambda_k * y + L.dot(\n",
    "                mu * l + np.array([gamma[:, 0]]).transpose()) + U.dot(\n",
    "                    mu * u - np.array([gamma[:, 1]]).transpose())\n",
    "            #CG\n",
    "            r = b - A.dot(alpha)\n",
    "            p = r\n",
    "            k = 0\n",
    "            while np.linalg.norm(\n",
    "                b - A.dot(alpha)) / np.linalg.norm(b) > tol and k < 10000:\n",
    "                r_prev = r\n",
    "                a = r.transpose().dot(r) / p.transpose().dot(A).dot(p)\n",
    "                alpha = alpha + a * p\n",
    "                r = r - a * A.dot(p)\n",
    "                beta = r.transpose().dot(r) / r_prev.transpose().dot(r_prev)\n",
    "                p = r + beta * p\n",
    "                k += 1\n",
    "            #Loop breaks\n",
    "            non_negativity = True\n",
    "            for i in range(N):\n",
    "                if alpha[i] < 0 or alpha[i] > C:\n",
    "                    non_negativity = False\n",
    "            if non_negativity and alpha.transpose().dot(y) < tol:\n",
    "                break\n",
    "\n",
    "            # Parameters are ready for next\n",
    "            lambda_k = lambda_k + mu * alpha.transpose().dot(y)\n",
    "            for i in range(N):\n",
    "                gamma[i, 0] = max([0, gamma[i, 0] + mu * (l[i] - alpha[i])])\n",
    "                gamma[i, 1] = max([0, gamma[i, 1] + mu * (alpha[i] - u[i])])\n",
    "            if alpha.transpose().dot(y) > 0.25 * alpha_prev.transpose().dot(y):\n",
    "                mu = 3 * mu\n",
    "            iterations += 1\n",
    "        total_time += t.interval\n",
    "        \n",
    "    print(\"total iterations: \", iterations)\n",
    "    print(\"avergage time for iteration: \", total_time / iterations, \" s/iteration\")\n",
    "    return alpha\n",
    "    "
   ]
  },
  {
   "cell_type": "code",
   "execution_count": 266,
   "metadata": {
    "collapsed": true
   },
   "outputs": [],
   "source": [
    "def predict(x, y, point, alpha, b, kernel_type = 'Gaussian'):\n",
    "\n",
    "    F_tot = 0\n",
    "    if kernel_type == 'Gaussian':\n",
    "        for j in range(np.size(y)):\n",
    "            F_tot += alpha[j] * y[j] * K_Gauss(x[j], point, gamma_gauss)\n",
    "    elif kernel_type == 'Laplace':\n",
    "        for j in range(np.size(y)):\n",
    "            F_tot += alpha[j] * y[j] * K_Laplace(x[j], point, sigma)\n",
    "    F_ = F_tot + b\n",
    "    if F_ >= 0:\n",
    "        return 1\n",
    "    if F_ < 0:\n",
    "        return -1\n",
    "    \n",
    "def B(alpha):\n",
    "    s = 0\n",
    "    w = 0\n",
    "    b = 0\n",
    "    for i in range(np.size(alpha)):\n",
    "        w += alpha[i] * y[i] * x[i]\n",
    "    for i in range(np.size(alpha)):\n",
    "        if alpha[i] != 0:\n",
    "            b += (y[i] * w.dot(x[i].transpose()) - 1) / y[i]\n",
    "            s += 1\n",
    "    b *= 1/s\n",
    "    return b"
   ]
  },
  {
   "cell_type": "code",
   "execution_count": 267,
   "metadata": {
    "collapsed": true
   },
   "outputs": [],
   "source": [
    "x = np.zeros((400, 2))\n",
    "\n",
    "x[0:200, 0] = pos_x\n",
    "x[0:200, 1] = pos_y\n",
    "\n",
    "x[200: , 0] = neg_x\n",
    "x[200: , 1] = neg_y\n",
    "\n",
    "y = np.zeros(400)\n",
    "y[0:200] = 1\n",
    "y[200: ] = -1\n",
    "gamma_gauss = 3\n",
    "sigma = 0.1\n",
    "tol = 1e-12\n",
    "max_passes = 20\n",
    "C = 1"
   ]
  },
  {
   "cell_type": "code",
   "execution_count": null,
   "metadata": {
    "collapsed": true
   },
   "outputs": [],
   "source": []
  },
  {
   "cell_type": "code",
   "execution_count": 275,
   "metadata": {},
   "outputs": [
    {
     "name": "stdout",
     "output_type": "stream",
     "text": [
      "total iterations:  31\n",
      " average time for each iteration:  2.324937912725633  s/iteration\n"
     ]
    }
   ],
   "source": [
    "alpha, b = SMO(C, tol, max_passes, x, y, kernel_type = 'Laplace')"
   ]
  },
  {
   "cell_type": "code",
   "execution_count": 276,
   "metadata": {},
   "outputs": [
    {
     "data": {
      "text/plain": [
       "<matplotlib.text.Text at 0x11c46e048>"
      ]
     },
     "execution_count": 276,
     "metadata": {},
     "output_type": "execute_result"
    },
    {
     "data": {
      "image/png": "[encoded data removed]",
      "text/plain": [
       "<matplotlib.figure.Figure at 0x11afa0cc0>"
      ]
     },
     "metadata": {},
     "output_type": "display_data"
    }
   ],
   "source": [
    "X = Y = np.linspace(-3, 3, 60)\n",
    "Z = np.array([predict(\n",
    "    x, y, np.array([i, j]), alpha, b, kernel_type = 'Laplace') for j in Y for i in X])\n",
    "Z = Z.reshape(60,60)\n",
    "plt.figure(figsize=(6,6))\n",
    "\n",
    "plt.plot(pos_x, pos_y, 'bx')\n",
    "plt.plot(neg_x, neg_y, 'r.')\n",
    "plt.contourf(X, Y, Z, 1)\n",
    "plt.xlabel('x')\n",
    "plt.ylabel('y')\n",
    "plt.title('SMO with Laplace Kernel')"
   ]
  },
  {
   "cell_type": "code",
   "execution_count": 277,
   "metadata": {},
   "outputs": [
    {
     "name": "stdout",
     "output_type": "stream",
     "text": [
      "total iterations:  98\n",
      " average time for each iteration:  2.1432418652943204  s/iteration\n"
     ]
    }
   ],
   "source": [
    "alpha, b = SMO(C, tol, max_passes, x, y, kernel_type = 'Gaussian')"
   ]
  },
  {
   "cell_type": "code",
   "execution_count": 279,
   "metadata": {},
   "outputs": [
    {
     "data": {
      "text/plain": [
       "<matplotlib.text.Text at 0x11d0b27f0>"
      ]
     },
     "execution_count": 279,
     "metadata": {},
     "output_type": "execute_result"
    },
    {
     "data": {
      "image/png": "[encoded data removed]",
      "text/plain": [
       "<matplotlib.figure.Figure at 0x11b899fd0>"
      ]
     },
     "metadata": {},
     "output_type": "display_data"
    }
   ],
   "source": [
    "X = Y = np.linspace(-3, 3, 60)\n",
    "Z = np.array([predict(\n",
    "    x, y, np.array([i, j]), alpha, b, kernel_type = 'Gaussian') for j in Y for i in X])\n",
    "Z = Z.reshape(60,60)\n",
    "plt.figure(figsize=(6,6))\n",
    "\n",
    "plt.plot(pos_x, pos_y, 'bx')\n",
    "plt.plot(neg_x, neg_y, 'r.')\n",
    "plt.contourf(X, Y, Z, 1)\n",
    "plt.xlabel('x')\n",
    "plt.ylabel('y')\n",
    "plt.title('SMO with Gaussian Kernel')"
   ]
  },
  {
   "cell_type": "code",
   "execution_count": null,
   "metadata": {
    "collapsed": true
   },
   "outputs": [],
   "source": []
  },
  {
   "cell_type": "code",
   "execution_count": 268,
   "metadata": {
    "collapsed": true
   },
   "outputs": [],
   "source": []
  },
  {
   "cell_type": "code",
   "execution_count": 269,
   "metadata": {},
   "outputs": [
    {
     "name": "stdout",
     "output_type": "stream",
     "text": [
      "total iterations:  59\n",
      "avergage time for iteration:  1.6908187017602436  s/iteration\n"
     ]
    }
   ],
   "source": [
    "alpha = ALM(C, tol, max_passes, x, y, kernel_type = 'Laplace')"
   ]
  },
  {
   "cell_type": "code",
   "execution_count": 270,
   "metadata": {
    "collapsed": true
   },
   "outputs": [],
   "source": [
    "b = B(alpha)"
   ]
  },
  {
   "cell_type": "code",
   "execution_count": 271,
   "metadata": {},
   "outputs": [
    {
     "data": {
      "text/plain": [
       "<matplotlib.text.Text at 0x11b41ad68>"
      ]
     },
     "execution_count": 271,
     "metadata": {},
     "output_type": "execute_result"
    },
    {
     "data": {
      "image/png": "[encoded data removed]",
      "text/plain": [
       "<matplotlib.figure.Figure at 0x11b74e198>"
      ]
     },
     "metadata": {},
     "output_type": "display_data"
    }
   ],
   "source": [
    "X = Y = np.linspace(-3, 3, 60)\n",
    "Z = np.array([predict(\n",
    "    x, y, np.array([i, j]), alpha, b, kernel_type = 'Laplace') for j in Y for i in X])\n",
    "Z = Z.reshape(60,60)\n",
    "plt.figure(figsize=(6,6))\n",
    "\n",
    "plt.plot(pos_x, pos_y, 'bx')\n",
    "plt.plot(neg_x, neg_y, 'r.')\n",
    "plt.contourf(X, Y, Z, 1)\n",
    "plt.xlabel('x')\n",
    "plt.ylabel('y')\n",
    "plt.title('Augmented Lagrangian with Laplace kernel')"
   ]
  },
  {
   "cell_type": "code",
   "execution_count": 272,
   "metadata": {
    "collapsed": true
   },
   "outputs": [],
   "source": []
  },
  {
   "cell_type": "code",
   "execution_count": 273,
   "metadata": {},
   "outputs": [
    {
     "name": "stdout",
     "output_type": "stream",
     "text": [
      "total iterations:  75\n",
      "avergage time for iteration:  1.8377479235331218  s/iteration\n"
     ]
    },
    {
     "data": {
      "text/plain": [
       "<matplotlib.text.Text at 0x11be21588>"
      ]
     },
     "execution_count": 273,
     "metadata": {},
     "output_type": "execute_result"
    },
    {
     "data": {
      "image/png": "[encoded data removed]",
      "text/plain": [
       "<matplotlib.figure.Figure at 0x11b8b2d30>"
      ]
     },
     "metadata": {},
     "output_type": "display_data"
    }
   ],
   "source": [
    "alpha = ALM(C, 1e-12, max_passes, x, y, kernel_type = 'Gaussian')\n",
    "b = B(alpha)\n",
    "\n",
    "X = Y = np.linspace(-3, 3, 60)\n",
    "Z = np.array([predict(\n",
    "    x, y, np.array([i, j]), alpha, b, kernel_type = 'Laplace') for j in Y for i in X])\n",
    "Z = Z.reshape(60,60)\n",
    "plt.figure(figsize=(6,6))\n",
    "\n",
    "plt.plot(pos_x, pos_y, 'bx')\n",
    "plt.plot(neg_x, neg_y, 'r.')\n",
    "plt.contourf(X, Y, Z, 1)\n",
    "plt.xlabel('x')\n",
    "plt.ylabel('y')\n",
    "plt.title('Augmented Lagrangian with Gaussian kernel')"
   ]
  },
  {
   "cell_type": "code",
   "execution_count": null,
   "metadata": {
    "collapsed": true
   },
   "outputs": [],
   "source": []
  },
  {
   "cell_type": "code",
   "execution_count": null,
   "metadata": {
    "collapsed": true
   },
   "outputs": [],
   "source": []
  },
  {
   "cell_type": "markdown",
   "metadata": {
    "collapsed": true
   },
   "source": [
    "Same codes but added the ALPHAS for convergence investigation"
   ]
  },
  {
   "cell_type": "code",
   "execution_count": 281,
   "metadata": {
    "collapsed": true
   },
   "outputs": [],
   "source": [
    "def SMO(C, tol, max_cycle, x, y, kernel_type = 'Gaussian'):\n",
    "    \n",
    "    def give_b(kernel_type):\n",
    "        if kernel_type == 'Gaussian':\n",
    "            b1 = b - E_i - y[i] * (\n",
    "                alpha[i] - alpha_prev_i) * K_Gauss(x[i], x[i], gamma_gauss) - y[j] * (\n",
    "                    alpha[j] - alpha_prev_j) * K_Gauss(x[j], x[j], gamma_gauss)\n",
    "            b2 = b - E_j - y[i] * (\n",
    "                alpha[i] - alpha_prev_i) * K_Gauss(x[i], x[i], gamma_gauss) - y[j] * (\n",
    "                    alpha[j] - alpha_prev_j) * K_Gauss(x[j], x[j], gamma_gauss)\n",
    "        elif kernel_type == 'Laplace':\n",
    "            b1 = b - E_i - y[i] * (\n",
    "                alpha[i] - alpha_prev_i) * K_Laplace(x[i], x[i], sigma) - y[j] * (\n",
    "                    alpha[j] - alpha_prev_j) * K_Laplace(x[j], x[j], sigma)\n",
    "            b2 = b - E_j - y[i] * (\n",
    "                alpha[i] - alpha_prev_i) * K_Laplace(x[i], x[i], sigma) - y[j] * (\n",
    "                    alpha[j] - alpha_prev_j) * K_Laplace(x[j], x[j], sigma)\n",
    "        return b1, b2\n",
    "    \n",
    "    def give_eta(kernel_type):\n",
    "        if kernel_type == 'Gaussian':\n",
    "            eta = 2 * K_Gauss(x[i], x[j], gamma_gauss) - K_Gauss(\n",
    "                x[i], x[i], gamma_gauss) - K_Gauss(x[j], x[j], gamma_gauss)\n",
    "        elif kernel_type == 'Laplace':\n",
    "            eta = 2 * K_Laplace(x[i], x[j], sigma) - K_Laplace(\n",
    "                x[i], x[i], sigma) - K_Laplace(x[j], x[j], sigma)    \n",
    "        return eta\n",
    "    \n",
    "    cycle = 0\n",
    "    alpha = np.ones(np.size(y))\n",
    "    alpha_prev = np.ones(np.size(y))\n",
    "    b = 0\n",
    "    N = np.size(y)\n",
    "    total_t = 0\n",
    "    k = 0\n",
    "    ALPHAS = []\n",
    "    while (cycle< max_cycle and np.linalg.norm(\n",
    "        alpha - alpha_prev) / np.linalg.norm(alpha_prev) > tol) or cycle < 2:\n",
    "        ALPHAS.append(np.linalg.norm(\n",
    "        alpha - alpha_prev) / np.linalg.norm(alpha_prev))\n",
    "        alpha_prev = np.array(list(alpha))\n",
    "        with Timer() as t:\n",
    "            alphas_changed = 0\n",
    "            for i in range(N):\n",
    "                E_i = F(x, y, i, alpha, b, kernel_type) - y[i]\n",
    "                if (y[i] * E_i < -tol and alpha[i] < C) or (y[i] * E_i > tol and alpha[i] > 0):\n",
    "\n",
    "                    \n",
    "                    j = random.randint(0,N - 1)\n",
    "                    while j == i:\n",
    "                        j = random.randint(0,N - 1)\n",
    "\n",
    "                    \n",
    "                    E_j = F(x, y, j, alpha, b, kernel_type) - y[j]\n",
    "                    alpha_prev_i = alpha[i]\n",
    "                    alpha_prev_j = alpha[j]\n",
    "                    if y[i] == y[j]:\n",
    "                        L = max([0, alpha[i] + alpha[j] - C])\n",
    "                        H = min([C, alpha[i] + alpha[j]])\n",
    "                    elif y[i] != y[j]:\n",
    "                        L = max([0, alpha[j] - alpha[i]])\n",
    "                        H = min([C, C + alpha[j] - alpha[i]])\n",
    "\n",
    "                    if L != H:\n",
    "                        eta = give_eta(kernel_type)               \n",
    "                        if eta <= 0:\n",
    "                            alpha[j] = alpha[j] - y[j] * (E_i - E_j) / eta\n",
    "                            if alpha[j] > H:\n",
    "                                alpha[j] = H\n",
    "                            elif alpha[j] < L:\n",
    "                                alpha[j] = L\n",
    "\n",
    "                            if  abs(alpha[j] - alpha_prev_j) >= tol:\n",
    "                                alpha[i] = alpha[i] + y[i] * y[j] * (alpha_prev_j - alpha[j])\n",
    "\n",
    "                                \n",
    "                                b1, b2 =give_b(kernel_type)\n",
    "                                \n",
    "                                if 0 < alpha[i] < C:\n",
    "                                    b = b1\n",
    "                                elif 0 < alpha[j] < C:\n",
    "                                    b = b2\n",
    "                                else:\n",
    "                                    b = (b1 + b2) / 2\n",
    "                                alphas_changed += 1\n",
    "\n",
    "\n",
    "            if alphas_changed != 0:\n",
    "                cycle += 1\n",
    "            else:\n",
    "                cycle == 0\n",
    "        total_t += t.interval\n",
    "    print(\"total iterations: \", cycle)\n",
    "    print(\" average time for each iteration: \", total_t / cycle, \" s/iteration\")\n",
    "    return alpha, b"
   ]
  },
  {
   "cell_type": "code",
   "execution_count": 6,
   "metadata": {
    "collapsed": true
   },
   "outputs": [],
   "source": [
    "def ALM(C, tol, max_cycle, x, y, kernel_type = 'Gaussian'):\n",
    "\n",
    "    max_iterations = 10000\n",
    "    gamma = np.ones((N, 2)) * 0.005\n",
    "    alpha = np.zeros((N,1))\n",
    "    mu = 0.05\n",
    "    b_or = np.ones((N,1))\n",
    "    b = np.ones((N,1))\n",
    "    L = np.zeros((N, N))\n",
    "    U = np.zeros((N, N))\n",
    "    lambda_k = 0.05\n",
    "    iterations = 0\n",
    "    total_time = 0\n",
    "    N = np.size(y)\n",
    "    A_ = np.zeros((N, N))\n",
    "    A = np.zeros((N, N))\n",
    "    y = np.array([list(y)]).transpose()\n",
    "    x = x.transpose()\n",
    "    l = np.zeros((N,1))\n",
    "    u = np.ones((N,1))\n",
    "    \n",
    "\n",
    "    while iterations < max_iterations:\n",
    "        with Timer() as t:\n",
    "            alpha_prev = np.array(list(alpha))\n",
    "            for i in range(N):\n",
    "                for j in range(N):\n",
    "                    if kernel_type == 'Gaussian':\n",
    "                        kij = K_Gauss(x[:, i], x[:, j], gamma_gauss)\n",
    "                    elif kernel_type == 'Laplace':\n",
    "                        kij = K_Laplace(x[:, i], x[:, j], sigma)\n",
    "                    A_[i, j] = kij * y[i] * y[j]\n",
    "                    if i == j:\n",
    "                        if gamma[i, 0] + mu * (l[i] - alpha[i]) < 0:\n",
    "                            L[i, j] = 0\n",
    "                        else:\n",
    "                            L[i, j] = 1\n",
    "                        if gamma[i, 0] + mu * (alpha[i] - u[i]) < 0:\n",
    "                            U[i, j] = 0\n",
    "                        else:\n",
    "                            U[i, j] = 1\n",
    "            A = A_ + mu * (y.dot(y.transpose()) + L + U)\n",
    "            b = b_or - lambda_k * y + L.dot(\n",
    "                mu * l + np.array([gamma[:, 0]]).transpose()) + U.dot(\n",
    "                    mu * u - np.array([gamma[:, 1]]).transpose())\n",
    "            #CG\n",
    "            r = b - A.dot(alpha)\n",
    "            p = r\n",
    "            k = 0\n",
    "            ALPHAS.append(alpha.transpose().dot(y))\n",
    "            while np.linalg.norm(\n",
    "                b - A.dot(alpha)) / np.linalg.norm(b) > tol and k < 10000:\n",
    "                r_prev = r\n",
    "                a = r.transpose().dot(r) / p.transpose().dot(A).dot(p)\n",
    "                alpha = alpha + a * p\n",
    "                r = r - a * A.dot(p)\n",
    "                beta = r.transpose().dot(r) / r_prev.transpose().dot(r_prev)\n",
    "                p = r + beta * p\n",
    "                k += 1\n",
    "            #Loop breaks\n",
    "            non_negativity = True\n",
    "            for i in range(N):\n",
    "                if alpha[i] < 0 or alpha[i] > C:\n",
    "                    non_negativity = False\n",
    "            if non_negativity and alpha.transpose().dot(y) < tol:\n",
    "                break\n",
    "\n",
    "            # Parameters are ready for next\n",
    "            lambda_k = lambda_k + mu * alpha.transpose().dot(y)\n",
    "            for i in range(N):\n",
    "                gamma[i, 0] = max([0, gamma[i, 0] + mu * (l[i] - alpha[i])])\n",
    "                gamma[i, 1] = max([0, gamma[i, 1] + mu * (alpha[i] - u[i])])\n",
    "            if alpha.transpose().dot(y) > 0.25 * alpha_prev.transpose().dot(y):\n",
    "                mu = 3 * mu\n",
    "            iterations += 1\n",
    "        total_time += t.interval\n",
    "        \n",
    "    print(\"total iterations: \", iterations)\n",
    "    print(\"avergage time for iteration: \", total_time / iterations, \" s/iteration\")\n",
    "    return alpha, ALPHAS\n",
    "    "
   ]
  },
  {
   "cell_type": "code",
   "execution_count": 310,
   "metadata": {
    "collapsed": true
   },
   "outputs": [],
   "source": []
  },
  {
   "cell_type": "code",
   "execution_count": null,
   "metadata": {
    "collapsed": true
   },
   "outputs": [],
   "source": []
  },
  {
   "cell_type": "code",
   "execution_count": null,
   "metadata": {
    "collapsed": true
   },
   "outputs": [],
   "source": []
  },
  {
   "cell_type": "code",
   "execution_count": 282,
   "metadata": {},
   "outputs": [
    {
     "name": "stdout",
     "output_type": "stream",
     "text": [
      "total iterations:  100\n",
      " average time for each iteration:  2.0825650811195375  s/iteration\n"
     ]
    }
   ],
   "source": [
    "alpha_rbf,b, ALPHAS_rbf_smo = SMO(C, tol, max_passes, x, y, kernel_type = 'Gaussian')"
   ]
  },
  {
   "cell_type": "code",
   "execution_count": 285,
   "metadata": {},
   "outputs": [
    {
     "name": "stdout",
     "output_type": "stream",
     "text": [
      "total iterations:  35\n",
      " average time for each iteration:  2.308734164919172  s/iteration\n"
     ]
    }
   ],
   "source": [
    "alpha_laplace,b, ALPHAS_laplace_smo = SMO(C, tol, max_passes, x, y, kernel_type = 'Laplace')"
   ]
  },
  {
   "cell_type": "code",
   "execution_count": 311,
   "metadata": {},
   "outputs": [
    {
     "name": "stdout",
     "output_type": "stream",
     "text": [
      "[[0.]]\n",
      "[[7.33806244]]\n",
      "[[0.45380126]]\n",
      "[[0.02347869]]\n",
      "[[-0.0606894]]\n",
      "[[0.23662406]]\n",
      "[[-0.11078816]]\n",
      "[[0.09234316]]\n",
      "[[-0.00929661]]\n",
      "[[-0.00477618]]\n",
      "[[-0.01135285]]\n",
      "[[0.01456844]]\n",
      "[[-0.00972812]]\n",
      "[[0.01514136]]\n",
      "[[-0.00121805]]\n",
      "[[-0.00484317]]\n",
      "[[0.00862075]]\n",
      "[[-0.00119827]]\n",
      "[[0.00047838]]\n",
      "[[0.00064371]]\n",
      "[[-0.00021465]]\n",
      "[[0.00038351]]\n",
      "[[-0.00019523]]\n",
      "[[6.33472413e-05]]\n",
      "[[1.20464345e-05]]\n",
      "[[-2.46431592e-05]]\n",
      "[[3.19428135e-05]]\n",
      "[[-6.16911217e-06]]\n",
      "[[-7.52096213e-07]]\n",
      "[[-1.35598518e-06]]\n",
      "[[5.12094766e-05]]\n",
      "[[-1.72559448e-05]]\n",
      "[[-4.01010948e-06]]\n",
      "[[1.99214708e-06]]\n",
      "[[-2.03839534e-07]]\n",
      "[[-1.25681595e-07]]\n",
      "[[4.12700018e-07]]\n",
      "[[-7.72722899e-08]]\n",
      "[[-1.94501411e-08]]\n",
      "[[-3.71224047e-08]]\n",
      "[[2.10501526e-07]]\n",
      "[[-4.03112494e-08]]\n",
      "[[8.95155949e-10]]\n",
      "[[-6.72724809e-09]]\n",
      "[[7.43148121e-09]]\n",
      "[[-3.22873461e-09]]\n",
      "[[5.13321652e-09]]\n",
      "[[-6.33107788e-10]]\n",
      "[[-4.35065317e-10]]\n",
      "[[-7.7362472e-10]]\n",
      "[[1.06409459e-09]]\n",
      "[[-1.37532652e-10]]\n",
      "[[-5.34328137e-11]]\n",
      "[[-9.07505182e-11]]\n",
      "[[3.58255647e-10]]\n",
      "[[-8.4213525e-11]]\n",
      "[[-2.77857737e-11]]\n",
      "[[1.0446044e-10]]\n",
      "[[-2.09929851e-11]]\n",
      "[[-5.3603344e-11]]\n",
      "[[6.80167034e-11]]\n",
      "[[1.43245416e-11]]\n",
      "[[1.09821485e-10]]\n",
      "[[-5.35465006e-11]]\n",
      "[[2.07478479e-11]]\n",
      "[[4.03588274e-12]]\n",
      "[[-2.45847787e-12]]\n",
      "[[6.40199005e-12]]\n",
      "[[1.30562228e-12]]\n",
      "[[-2.53663757e-12]]\n",
      "[[-5.32907052e-14]]\n",
      "[[8.08242362e-14]]\n",
      "[[-1.24344979e-14]]\n",
      "[[2.81996648e-14]]\n",
      "[[-9.54791801e-14]]\n",
      "[[6.17284002e-14]]\n",
      "total iterations:  75\n",
      "avergage time for iteration:  1.9469763215382894  s/iteration\n"
     ]
    }
   ],
   "source": [
    "alpha, ALPHAS_rbf_AL = ALM(C, tol, max_passes, x, y, kernel_type = 'Gaussian')"
   ]
  },
  {
   "cell_type": "code",
   "execution_count": 327,
   "metadata": {},
   "outputs": [
    {
     "name": "stdout",
     "output_type": "stream",
     "text": [
      "[[0.]]\n",
      "[[6.54499752]]\n",
      "[[0.47728069]]\n",
      "[[0.03981986]]\n",
      "[[0.01067504]]\n",
      "[[0.00766109]]\n",
      "[[0.00320092]]\n",
      "[[-0.00038561]]\n",
      "[[0.00365484]]\n",
      "[[-0.00034393]]\n",
      "[[-0.00166013]]\n",
      "[[0.00207274]]\n",
      "[[-0.0001856]]\n",
      "[[-0.00051988]]\n",
      "[[0.00116488]]\n",
      "[[-0.00033223]]\n",
      "[[4.8328618e-08]]\n",
      "[[4.77832019e-05]]\n",
      "[[-1.46188999e-05]]\n",
      "[[2.44562746e-05]]\n",
      "[[-1.00116787e-06]]\n",
      "[[-1.19196194e-05]]\n",
      "[[1.7135744e-05]]\n",
      "[[-2.49336554e-06]]\n",
      "[[-2.37769589e-06]]\n",
      "[[3.59915499e-06]]\n",
      "[[-5.08858526e-07]]\n",
      "[[-8.09645024e-07]]\n",
      "[[1.64719102e-06]]\n",
      "[[-3.88764887e-07]]\n",
      "[[-6.67652262e-08]]\n",
      "[[4.41871819e-08]]\n",
      "[[-4.9998965e-09]]\n",
      "[[2.59323107e-08]]\n",
      "[[-6.68925537e-09]]\n",
      "[[-9.26650934e-09]]\n",
      "[[1.90072349e-08]]\n",
      "[[-2.10442241e-09]]\n",
      "[[-2.3405109e-09]]\n",
      "[[3.96463307e-09]]\n",
      "[[-1.09806941e-09]]\n",
      "[[-7.58920926e-10]]\n",
      "[[2.1661215e-09]]\n",
      "[[-5.2070126e-10]]\n",
      "[[1.22746258e-11]]\n",
      "[[4.51763071e-11]]\n",
      "[[-2.1525004e-11]]\n",
      "[[3.27879945e-11]]\n",
      "[[-1.01012532e-11]]\n",
      "[[-1.16631149e-11]]\n",
      "[[3.53530538e-11]]\n",
      "[[-2.92654789e-12]]\n",
      "[[-7.05213665e-12]]\n",
      "[[3.10933501e-11]]\n",
      "[[-6.37445652e-12]]\n",
      "[[-4.71223061e-12]]\n",
      "[[1.83398852e-11]]\n",
      "[[-4.41280346e-12]]\n",
      "[[-7.40740802e-13]]\n",
      "[[1.49436019e-13]]\n",
      "total iterations:  59\n",
      "avergage time for iteration:  1.8904012542659954  s/iteration\n"
     ]
    }
   ],
   "source": [
    "alpha, ALPHAS_Laplace_AL = ALM(C, tol, max_passes, x, y, kernel_type = 'Laplace', show_time = False)"
   ]
  },
  {
   "cell_type": "code",
   "execution_count": null,
   "metadata": {
    "collapsed": true
   },
   "outputs": [],
   "source": []
  },
  {
   "cell_type": "code",
   "execution_count": null,
   "metadata": {
    "collapsed": true
   },
   "outputs": [],
   "source": []
  },
  {
   "cell_type": "code",
   "execution_count": 292,
   "metadata": {},
   "outputs": [
    {
     "data": {
      "image/png": "[encoded data removed]",
      "text/plain": [
       "<matplotlib.figure.Figure at 0x11d8fabe0>"
      ]
     },
     "metadata": {},
     "output_type": "display_data"
    }
   ],
   "source": [
    "plt.plot(np.arange(1,len(ALPHAS_rbf_smo)) ,ALPHAS_rbf_smo[1:], label =\"Gaussian kernel\")\n",
    "plt.plot(np.arange(1,len(ALPHAS_laplace_smo)) ,ALPHAS_laplace_smo[1:], label = \"Laplace kernel\")\n",
    "plt.legend()\n",
    "plt.title(\"Convrgence rate SMO\")\n",
    "plt.xlabel(\"iterations\")\n",
    "plt.ylabel(\"Error\")\n",
    "plt.show()"
   ]
  },
  {
   "cell_type": "code",
   "execution_count": 359,
   "metadata": {},
   "outputs": [
    {
     "name": "stderr",
     "output_type": "stream",
     "text": [
      "/Library/Frameworks/Python.framework/Versions/3.6/lib/python3.6/site-packages/ipykernel_launcher.py:1: RuntimeWarning: divide by zero encountered in log10\n",
      "  \"\"\"Entry point for launching an IPython kernel.\n",
      "/Library/Frameworks/Python.framework/Versions/3.6/lib/python3.6/site-packages/ipykernel_launcher.py:2: RuntimeWarning: divide by zero encountered in log10\n",
      "  \n"
     ]
    },
    {
     "data": {
      "image/png": "[encoded data removed]",
      "text/plain": [
       "<matplotlib.figure.Figure at 0x11b972be0>"
      ]
     },
     "metadata": {},
     "output_type": "display_data"
    }
   ],
   "source": [
    "plt.plot(np.arange(1,len(ALPHAS_rbf_smo)) ,np.log10(ALPHAS_rbf_smo)[1:], label =\"Gaussian kernel\")\n",
    "plt.plot(np.arange(1,len(ALPHAS_laplace_smo)) ,np.log10(ALPHAS_laplace_smo)[1:], label = \"Laplace kernel\")\n",
    "plt.legend()\n",
    "plt.title(\"Convrgence rate SMO\")\n",
    "plt.xlabel(\"iterations\")\n",
    "plt.ylabel(\"log(Error)\")\n",
    "plt.show()"
   ]
  },
  {
   "cell_type": "code",
   "execution_count": 296,
   "metadata": {},
   "outputs": [
    {
     "data": {
      "image/png": "[encoded data removed]",
      "text/plain": [
       "<matplotlib.figure.Figure at 0x11dd52588>"
      ]
     },
     "metadata": {},
     "output_type": "display_data"
    }
   ],
   "source": [
    "plt.plot(np.arange(1,31) ,ALPHAS_rbf_smo[1:31], label =\"Gaussian kernel\")\n",
    "plt.plot(np.arange(1,31) ,ALPHAS_laplace_smo[1:31], label = \"Laplace kernel\")\n",
    "plt.legend()\n",
    "plt.title(\"Convrgence rate SMO, truncated at 30\")\n",
    "plt.xlabel(\"iterations\")\n",
    "plt.ylabel(\"Error\")\n",
    "plt.show()"
   ]
  },
  {
   "cell_type": "code",
   "execution_count": 330,
   "metadata": {},
   "outputs": [
    {
     "data": {
      "text/plain": [
       "[0.0,\n",
       " 7.3380624402456505,\n",
       " 0.45380125922338266,\n",
       " 0.023478691959780917,\n",
       " -0.06068939672104534,\n",
       " 0.2366240583880881,\n",
       " -0.11078816183288609,\n",
       " 0.09234315764888379,\n",
       " -0.009296607067639684,\n",
       " -0.004776175293216056,\n",
       " -0.011352849166797796,\n",
       " 0.01456843772166394,\n",
       " -0.009728119714054628,\n",
       " 0.01514135705340891,\n",
       " -0.0012180518413487107,\n",
       " -0.004843166409386868,\n",
       " 0.00862074676172142,\n",
       " -0.0011982674504054103,\n",
       " 0.00047838256438126336,\n",
       " 0.0006437092737741068,\n",
       " -0.0002146545202492689,\n",
       " 0.0003835061424695141,\n",
       " -0.00019522645894909374,\n",
       " 6.33472413369418e-05,\n",
       " 1.2046434465950995e-05,\n",
       " -2.464315917904969e-05,\n",
       " 3.194281350715755e-05,\n",
       " -6.16911216866356e-06,\n",
       " -7.52096212863762e-07,\n",
       " -1.3559851836930648e-06,\n",
       " 5.120947662362596e-05,\n",
       " -1.7255944840144366e-05,\n",
       " -4.010109478258528e-06,\n",
       " 1.992147076634865e-06,\n",
       " -2.038395336967369e-07,\n",
       " -1.2568159490911057e-07,\n",
       " 4.1270001815973956e-07,\n",
       " -7.727228990006552e-08,\n",
       " -1.945014105331211e-08,\n",
       " -3.712240470576944e-08,\n",
       " 2.1050152554380475e-07,\n",
       " -4.0311249449587194e-08,\n",
       " 8.951559493652894e-10,\n",
       " -6.727248091920046e-09,\n",
       " 7.431481208186597e-09,\n",
       " -3.2287346130033256e-09,\n",
       " 5.133216518515837e-09,\n",
       " -6.331077884169645e-10,\n",
       " -4.3506531710590934e-10,\n",
       " -7.736247198408819e-10,\n",
       " 1.0640945902196108e-09,\n",
       " -1.37532651933725e-10,\n",
       " -5.3432813729159534e-11,\n",
       " -9.075051821128e-11,\n",
       " 3.582556473702425e-10,\n",
       " -8.421352504228707e-11,\n",
       " -2.7785773681898718e-11,\n",
       " 1.0446044029777113e-10,\n",
       " -2.099298512803216e-11,\n",
       " -5.360334398574196e-11,\n",
       " 6.801670338063559e-11,\n",
       " 1.432454155292362e-11,\n",
       " 1.0982148523908108e-10,\n",
       " -5.354650056688115e-11,\n",
       " 2.0747847884194925e-11,\n",
       " 4.035882739117369e-12,\n",
       " -2.4584778657299466e-12,\n",
       " 6.401990049198503e-12,\n",
       " 1.305622276959184e-12,\n",
       " -2.5366375666635577e-12,\n",
       " -5.3290705182007514e-14,\n",
       " 8.08242361927114e-14,\n",
       " -1.2434497875801753e-14,\n",
       " 2.8199664825478976e-14,\n",
       " -9.547918011776346e-14,\n",
       " 6.17284001691587e-14]"
      ]
     },
     "execution_count": 330,
     "metadata": {},
     "output_type": "execute_result"
    }
   ],
   "source": [
    "a = []\n",
    "for i in ALPHAS_rbf_AL:\n",
    "    a.append(i[0][0])\n",
    "a"
   ]
  },
  {
   "cell_type": "code",
   "execution_count": 329,
   "metadata": {},
   "outputs": [
    {
     "data": {
      "text/plain": [
       "[0.0,\n",
       " 6.544997515976345,\n",
       " 0.4772806904067872,\n",
       " 0.03981985602427107,\n",
       " 0.010675041487155923,\n",
       " 0.007661093699809829,\n",
       " 0.003200919138599989,\n",
       " -0.0003856050371791042,\n",
       " 0.003654839528586251,\n",
       " -0.000343929633914275,\n",
       " -0.0016601328384862057,\n",
       " 0.0020727376163964806,\n",
       " -0.00018560213021423522,\n",
       " -0.0005198845094191995,\n",
       " 0.001164880265156043,\n",
       " -0.0003322310633442349,\n",
       " 4.832861799641819e-08,\n",
       " 4.7783201907236617e-05,\n",
       " -1.4618899903950933e-05,\n",
       " 2.445627460456734e-05,\n",
       " -1.0011678703847338e-06,\n",
       " -1.191961942392794e-05,\n",
       " 1.713574397754769e-05,\n",
       " -2.4933655433656554e-06,\n",
       " -2.377695894395515e-06,\n",
       " 3.5991549944824897e-06,\n",
       " -5.088585259827028e-07,\n",
       " -8.096450239136743e-07,\n",
       " 1.6471910164739256e-06,\n",
       " -3.887648873934779e-07,\n",
       " -6.676522623649817e-08,\n",
       " 4.418718191345761e-08,\n",
       " -4.99989649682675e-09,\n",
       " 2.5932310743215226e-08,\n",
       " -6.6892553718389536e-09,\n",
       " -9.266509337635398e-09,\n",
       " 1.9007234897117087e-08,\n",
       " -2.104422414106466e-09,\n",
       " -2.3405108962037957e-09,\n",
       " 3.964633066289025e-09,\n",
       " -1.098069413174585e-09,\n",
       " -7.589209261027463e-10,\n",
       " 2.1661215043877746e-09,\n",
       " -5.207012598873462e-10,\n",
       " 1.227462576025573e-11,\n",
       " 4.517630713962717e-11,\n",
       " -2.1525004001432535e-11,\n",
       " 3.278799454164982e-11,\n",
       " -1.0101253167249524e-11,\n",
       " -1.1663114918292194e-11,\n",
       " 3.5353053817743785e-11,\n",
       " -2.9265478929119126e-12,\n",
       " -7.052136652418994e-12,\n",
       " 3.1093350116861984e-11,\n",
       " -6.374456518187799e-12,\n",
       " -4.7122306057190144e-12,\n",
       " 1.8339885166085423e-11,\n",
       " -4.41280345597761e-12,\n",
       " -7.407408020299044e-13,\n",
       " 1.4943601911454607e-13]"
      ]
     },
     "execution_count": 329,
     "metadata": {},
     "output_type": "execute_result"
    }
   ],
   "source": [
    "b = []\n",
    "for i in ALPHAS_Laplace_AL:\n",
    "    a\n",
    "    b.append(i[0][0])\n",
    "b"
   ]
  },
  {
   "cell_type": "code",
   "execution_count": 348,
   "metadata": {},
   "outputs": [
    {
     "data": {
      "image/png": "[encoded data removed]",
      "text/plain": [
       "<matplotlib.figure.Figure at 0x11dd506a0>"
      ]
     },
     "metadata": {},
     "output_type": "display_data"
    }
   ],
   "source": [
    "plt.plot(np.arange(1,len(a)) ,np.abs(a)[1:], label =\"Gaussian kernel\")\n",
    "plt.plot(np.arange(1,len(b)) ,np.abs(b)[1:], label =\"Laplace kernel\")\n",
    "plt.legend()\n",
    "plt.title(\"Convrgence rate Augmented Lagrangian\")\n",
    "plt.xlabel(\"iterations\")\n",
    "plt.ylabel(\"Error\")\n",
    "plt.show()"
   ]
  },
  {
   "cell_type": "code",
   "execution_count": 361,
   "metadata": {},
   "outputs": [
    {
     "name": "stderr",
     "output_type": "stream",
     "text": [
      "/Library/Frameworks/Python.framework/Versions/3.6/lib/python3.6/site-packages/ipykernel_launcher.py:1: RuntimeWarning: divide by zero encountered in log10\n",
      "  \"\"\"Entry point for launching an IPython kernel.\n",
      "/Library/Frameworks/Python.framework/Versions/3.6/lib/python3.6/site-packages/ipykernel_launcher.py:2: RuntimeWarning: divide by zero encountered in log10\n",
      "  \n"
     ]
    },
    {
     "data": {
      "image/png": "[encoded data removed]",
      "text/plain": [
       "<matplotlib.figure.Figure at 0x11b972080>"
      ]
     },
     "metadata": {},
     "output_type": "display_data"
    }
   ],
   "source": [
    "plt.plot(np.arange(1,len(a)) ,np.log10(np.abs(a))[1:], label =\"Gaussian kernel\")\n",
    "plt.plot(np.arange(1,len(b)) ,np.log10(np.abs(b))[1:], label =\"Laplace kernel\")\n",
    "plt.legend()\n",
    "plt.title(\"Convrgence rate Augmented Lagrangian\")\n",
    "plt.xlabel(\"iterations\")\n",
    "plt.ylabel(\"log(Error)\")\n",
    "plt.show()"
   ]
  },
  {
   "cell_type": "code",
   "execution_count": 350,
   "metadata": {},
   "outputs": [
    {
     "data": {
      "image/png": "[encoded data removed]",
      "text/plain": [
       "<matplotlib.figure.Figure at 0x11bdcf4a8>"
      ]
     },
     "metadata": {},
     "output_type": "display_data"
    }
   ],
   "source": [
    "plt.plot(np.arange(1,15) ,np.abs(a)[1:15], label =\"Gaussian kernel\")\n",
    "plt.plot(np.arange(1,15) ,np.abs(b)[1:15], label =\"Laplace kernel\")\n",
    "plt.legend()\n",
    "plt.title(\"Convrgence rate Augmented Lagrangian, Truncated\")\n",
    "plt.xlabel(\"iterations\")\n",
    "plt.ylabel(\"Error\")\n",
    "plt.show()"
   ]
  },
  {
   "cell_type": "code",
   "execution_count": 360,
   "metadata": {},
   "outputs": [
    {
     "data": {
      "image/png": "[encoded data removed]",
      "text/plain": [
       "<matplotlib.figure.Figure at 0x11d5ec9b0>"
      ]
     },
     "metadata": {},
     "output_type": "display_data"
    }
   ],
   "source": [
    "plt.plot(np.arange(20,len(a)) ,np.log(np.abs(a)[20:]), label =\"Gaussian kernel\")\n",
    "plt.plot(np.arange(20,len(b)) ,np.log(np.abs(b)[20:]), label =\"Laplace kernel\")\n",
    "plt.legend()\n",
    "plt.title(\"Convrgence rate Augmented Lagrangian, Truncated from first iterations\")\n",
    "plt.xlabel(\"iterations\")\n",
    "plt.ylabel(\"log(Error)\")\n",
    "plt.show()"
   ]
  },
  {
   "cell_type": "code",
   "execution_count": null,
   "metadata": {
    "collapsed": true
   },
   "outputs": [],
   "source": []
  },
  {
   "cell_type": "code",
   "execution_count": null,
   "metadata": {
    "collapsed": true
   },
   "outputs": [],
   "source": []
  },
  {
   "cell_type": "code",
   "execution_count": null,
   "metadata": {
    "collapsed": true
   },
   "outputs": [],
   "source": []
  },
  {
   "cell_type": "code",
   "execution_count": null,
   "metadata": {
    "collapsed": true
   },
   "outputs": [],
   "source": []
  },
  {
   "cell_type": "markdown",
   "metadata": {
    "collapsed": true
   },
   "source": [
    "For MNIST, had to re-write the optmization code as a class for the way the data is processed. The code is exactly similar to one used above"
   ]
  },
  {
   "cell_type": "code",
   "execution_count": 78,
   "metadata": {},
   "outputs": [
    {
     "name": "stdout",
     "output_type": "stream",
     "text": [
      "['mnist_train.csv', 'mnist_test.csv']\n"
     ]
    }
   ],
   "source": [
    "import time\n",
    "import numpy as np # linear algebra\n",
    "import pandas as pd # data processing, CSV file I/O (e.g. pd.read_csv)\n",
    "from sklearn.model_selection import train_test_split as tts\n",
    "import seaborn as sns\n",
    "import matplotlib.pyplot as plt\n",
    "import os\n",
    "import random as rnd\n",
    "print(os.listdir(\"data_mnist\"))"
   ]
  },
  {
   "cell_type": "code",
   "execution_count": 82,
   "metadata": {
    "collapsed": true
   },
   "outputs": [],
   "source": [
    "df = pd.read_csv('data_mnist/mnist_test.csv', dtype=\"int64\")\n",
    "#y_df = pd.read_csv('../input/mnist_test.csv', header = None)\n",
    "y = df['label']\n",
    "x = df.drop('label', axis=1)"
   ]
  },
  {
   "cell_type": "code",
   "execution_count": 83,
   "metadata": {
    "collapsed": true
   },
   "outputs": [],
   "source": [
    "y = y.values\n",
    "x = x.values\n",
    "DIGIT = 8\n",
    "data_x = []\n",
    "data_y = []\n",
    "for index, label in enumerate(y):\n",
    "    if(label == DIGIT or label == 7):\n",
    "        data_x.append(x[index])\n",
    "        if(label == DIGIT):\n",
    "          data_y.append(1)\n",
    "        else:\n",
    "          data_y.append(-1) "
   ]
  },
  {
   "cell_type": "code",
   "execution_count": 84,
   "metadata": {},
   "outputs": [
    {
     "name": "stdout",
     "output_type": "stream",
     "text": [
      "shape of x: (12116, 784) shape of y: (12116,)\n"
     ]
    }
   ],
   "source": [
    "data_x = np.asarray(data_x)\n",
    "data_y = np.asarray(data_y)\n",
    "print(\"shape of x: \"+ str(data_x.shape), \"shape of y: \"+str(data_y.shape))"
   ]
  },
  {
   "cell_type": "code",
   "execution_count": 76,
   "metadata": {
    "collapsed": true
   },
   "outputs": [],
   "source": [
    "X_train, X_test, Y_train, Y_test = tts(data_x, data_y, test_size = 0.4, random_state = 5)"
   ]
  },
  {
   "cell_type": "code",
   "execution_count": 63,
   "metadata": {
    "collapsed": true
   },
   "outputs": [],
   "source": [
    "info_counts = []\n",
    "info_alphas = []\n",
    "info_time = []\n",
    "\n",
    "class SVM():\n",
    "    def __init__(self, max_iter=100, kernel_type='laplacian', C=1.0, epsilon=0.001, sigma =1):\n",
    "        self.kernels = {\n",
    "            'gaussian' : self.kernel_gauss,\n",
    "            'Laplacian': self.kernel_Laplacian\n",
    "        }\n",
    "        self.max_iter = max_iter\n",
    "        self.C = C\n",
    "        self.epsilon = epsilon\n",
    "        self.sigma = sigma\n",
    "        self.kernel_type = kernel_type\n",
    "\n",
    "        def kernel_gauss(self,x1, x2):\n",
    "            return np.exp(- (np.linalg.norm(x1 - x2, 2)) ** 2 / (2 * self.sigma ** 2))\n",
    "        def kernel_Laplacian(self,x1,x2):\n",
    "            return np.exp(- (np.linalg.norm(x1 - x2, 2)) / (self.sigma ))\n",
    "        def predict_proba(self, X):\n",
    "            return np.dot(self.w.T, X.T) + self.b\n",
    "        \n",
    "        def fit(self, X, y):\n",
    "\n",
    "            n, d = X.shape[0], X.shape[1]\n",
    "            alpha = np.zeros((n))\n",
    "            kernel = self.kernels[self.kernel_type]\n",
    "            count = 0\n",
    "        \n",
    "        while True:\n",
    "            start_time = time.time()\n",
    "            count += 1\n",
    "            print(count)\n",
    "            info_counts.append(count)\n",
    "            alpha_prev = np.copy(alpha)\n",
    "            for j in range(0, n):\n",
    "                i = self.get_rnd_int(0, n-1, j) \n",
    "                x_i, x_j, y_i, y_j = X[i,:], X[j,:], y[i], y[j]\n",
    "                k_ij = kernel(x_i, x_i) + kernel(x_j, x_j) - 2 * kernel(x_i, x_j)\n",
    "                if k_ij == 0:\n",
    "                    continue\n",
    "                alpha_prime_j, alpha_prime_i = alpha[j], alpha[i]\n",
    "                (L, H) = self.compute_L_H(self.C, alpha_prime_j, alpha_prime_i, y_j, y_i)\n",
    "\n",
    "                self.w = self.calc_w(alpha, y, X)\n",
    "                self.b = self.calc_b(X, y, self.w)\n",
    "\n",
    "                E_i = self.E(x_i, y_i, self.w, self.b)\n",
    "                E_j = self.E(x_j, y_j, self.w, self.b)\n",
    "\n",
    "    \n",
    "                alpha[j] = alpha_prime_j + float(y_j * (E_i - E_j))/k_ij\n",
    "                alpha[j] = max(alpha[j], L)\n",
    "                alpha[j] = min(alpha[j], H)\n",
    "\n",
    "                alpha[i] = alpha_prime_i + y_i*y_j * (alpha_prime_j - alpha[j])\n",
    "\n",
    "                \n",
    "            end_time = time.time()\n",
    "            info_time.append(end_time - start_time)\n",
    "            diff = np.linalg.norm(alpha - alpha_prev)\n",
    "            info_alphas.append(diff)\n",
    "            if diff < self.epsilon:\n",
    "                break\n",
    "            if count >= self.max_iter:\n",
    "                return\n",
    "        self.b = self.calc_b(X, y, self.w)\n",
    "        alpha_idx = np.where(alpha > 0)[0]\n",
    "        support_vectors = X[alpha_idx, :]\n",
    "        return support_vectors, count\n",
    "    def predict(self, X):\n",
    "        return self.h(X, self.w, self.b)\n",
    "    def calc_b(self, X, y, w):\n",
    "        b_tmp = y - np.dot(w.T, X.T)\n",
    "        return np.mean(b_tmp)\n",
    "    def calc_w(self, alpha, y, X):\n",
    "        return np.dot(X.T, np.multiply(alpha,y))\n",
    "    def h(self, X, w, b):\n",
    "        return np.sign(np.dot(w.T, X.T) + b).astype(int)\n",
    "    def E(self, x_k, y_k, w, b):\n",
    "        return self.h(x_k, w, b) - y_k\n",
    "    def compute_L_H(self, C, alpha_prime_j, alpha_prime_i, y_j, y_i):\n",
    "        if(y_i != y_j):\n",
    "            return (max(0, alpha_prime_j - alpha_prime_i), min(C, C - alpha_prime_i + alpha_prime_j))\n",
    "        else:\n",
    "            return (max(0, alpha_prime_i + alpha_prime_j - C), min(C, alpha_prime_i + alpha_prime_j))\n",
    "    def get_rnd_int(self, a,b,z):\n",
    "        i = z\n",
    "        cnt=0\n",
    "        while i == z and cnt<1000:\n",
    "            i = rnd.randint(a,b)\n",
    "            cnt=cnt+1\n",
    "        return i\n",
    "\n",
    "\n",
    "\n",
    "\n",
    "\n"
   ]
  },
  {
   "cell_type": "code",
   "execution_count": 62,
   "metadata": {},
   "outputs": [
    {
     "name": "stdout",
     "output_type": "stream",
     "text": [
      "1\n",
      "2\n",
      "3\n",
      "4\n",
      "5\n",
      "0.9925093632958801\n"
     ]
    }
   ],
   "source": [
    "info_counts = []\n",
    "info_alphas = []\n",
    "info_time = []\n",
    "\n",
    "model = SVM(max_iter=100, kernel_type='gaussian', C=1.0, epsilon=0.001, sigma = 0.1)\n",
    "model.fit(X_train, Y_train)\n",
    "Y_predicted = [model.predict(x) for x in X_test]\n",
    "cm_gaussian = confusion_matrix(Y_test, Y_predicted)\n",
    "cm = cm_gaussian\n",
    "accuracy = (cm[0][0] + cm[1][1]) / (cm[0][0] + cm[0][1] + cm[1][0] + cm[1][1])\n",
    "print(accuracy)\n",
    "\n",
    "info_counts_gauss = info_counts\n",
    "info_alphas_gauss = info_alphas\n",
    "info_time_gauss = info_time"
   ]
  },
  {
   "cell_type": "code",
   "execution_count": null,
   "metadata": {
    "collapsed": true
   },
   "outputs": [],
   "source": []
  },
  {
   "cell_type": "code",
   "execution_count": 64,
   "metadata": {},
   "outputs": [
    {
     "name": "stdout",
     "output_type": "stream",
     "text": [
      "1\n",
      "2\n",
      "3\n",
      "4\n",
      "5\n",
      "6\n",
      "7\n",
      "0.9900124843945068\n"
     ]
    }
   ],
   "source": [
    "info_counts = []\n",
    "info_alphas = []\n",
    "info_time = []\n",
    "\n",
    "model = SVM(max_iter=100, kernel_type='Laplacian', C=1.0, epsilon=0.001, sigma = 0.1)\n",
    "model.fit(X_train, Y_train)\n",
    "Y_predicted = [model.predict(x) for x in X_test]\n",
    "cm_laplace= confusion_matrix(Y_test, Y_predicted)\n",
    "cm = cm_laplace\n",
    "accuracy = (cm[0][0] + cm[1][1]) / (cm[0][0] + cm[0][1] + cm[1][0] + cm[1][1])\n",
    "print(accuracy)\n",
    "\n",
    "info_counts_laplace = info_counts\n",
    "info_alphas_laplace = info_alphas\n",
    "info_time_laplace = info_time"
   ]
  },
  {
   "cell_type": "code",
   "execution_count": null,
   "metadata": {
    "collapsed": true
   },
   "outputs": [],
   "source": []
  },
  {
   "cell_type": "code",
   "execution_count": 69,
   "metadata": {},
   "outputs": [
    {
     "data": {
      "image/png": "[encoded data removed]",
      "text/plain": [
       "<matplotlib.figure.Figure at 0x1129b9710>"
      ]
     },
     "metadata": {},
     "output_type": "display_data"
    }
   ],
   "source": [
    "plt.plot(info_counts_gauss, info_alphas_gauss, label= \"Gaussian Kernel\")\n",
    "plt.plot(info_counts_laplace, info_alphas_laplace, label= \"Laplacian Kernel\")\n",
    "plt.legend()\n",
    "plt.xlabel(\"iterations\")\n",
    "plt.ylabel(\"Error\")\n",
    "plt.show()"
   ]
  },
  {
   "cell_type": "code",
   "execution_count": 70,
   "metadata": {},
   "outputs": [
    {
     "data": {
      "image/png": "[encoded data removed]",
      "text/plain": [
       "<matplotlib.figure.Figure at 0x112a8a9e8>"
      ]
     },
     "metadata": {},
     "output_type": "display_data"
    }
   ],
   "source": [
    "plt.plot(info_counts_gauss, info_time_gauss, label= \"Gaussian Kernel\")\n",
    "plt.plot(info_counts_laplace, info_time_laplace, label= \"Laplacian Kernel\")\n",
    "plt.legend()\n",
    "plt.xlabel(\"iterations\")\n",
    "plt.ylabel(\"Error\")\n",
    "plt.show()"
   ]
  },
  {
   "cell_type": "code",
   "execution_count": null,
   "metadata": {
    "collapsed": true
   },
   "outputs": [],
   "source": []
  },
  {
   "cell_type": "code",
   "execution_count": null,
   "metadata": {
    "collapsed": true
   },
   "outputs": [],
   "source": []
  },
  {
   "cell_type": "code",
   "execution_count": null,
   "metadata": {},
   "outputs": [],
   "source": [
    "    "
   ]
  },
  {
   "cell_type": "code",
   "execution_count": null,
   "metadata": {
    "collapsed": true
   },
   "outputs": [],
   "source": []
  },
  {
   "cell_type": "code",
   "execution_count": null,
   "metadata": {
    "collapsed": true
   },
   "outputs": [],
   "source": []
  },
  {
   "cell_type": "code",
   "execution_count": null,
   "metadata": {
    "collapsed": true
   },
   "outputs": [],
   "source": []
  },
  {
   "cell_type": "code",
   "execution_count": null,
   "metadata": {
    "collapsed": true
   },
   "outputs": [],
   "source": []
  },
  {
   "cell_type": "code",
   "execution_count": 95,
   "metadata": {},
   "outputs": [
    {
     "name": "stdout",
     "output_type": "stream",
     "text": [
      "['mnist_train.csv', 'mnist_test.csv']\n"
     ]
    }
   ],
   "source": [
    "import time\n",
    "import numpy as np # linear algebra\n",
    "import pandas as pd # data processing, CSV file I/O (e.g. pd.read_csv)\n",
    "from sklearn.model_selection import train_test_split as tts\n",
    "from sklearn.metrics import confusion_matrix\n",
    "import seaborn as sns\n",
    "import matplotlib.pyplot as plt\n",
    "import os\n",
    "import random as rnd\n",
    "print(os.listdir(\"data_mnist\"))"
   ]
  },
  {
   "cell_type": "code",
   "execution_count": 96,
   "metadata": {
    "collapsed": true
   },
   "outputs": [],
   "source": [
    "df = pd.read_csv('data_mnist/mnist_train.csv', dtype=\"int64\")\n",
    "#y_df = pd.read_csv('../input/mnist_test.csv', header = None)\n",
    "y = df['label']\n",
    "x = df.drop('label', axis=1)"
   ]
  },
  {
   "cell_type": "code",
   "execution_count": 97,
   "metadata": {
    "collapsed": true
   },
   "outputs": [],
   "source": [
    "y = y.values\n",
    "x = x.values\n",
    "DIGIT = 8\n",
    "data_x = []\n",
    "data_y = []\n",
    "for index, label in enumerate(y):\n",
    "    if(label == DIGIT or label == 7):\n",
    "        data_x.append(x[index])\n",
    "        if(label == DIGIT):\n",
    "          data_y.append(1)\n",
    "        else:\n",
    "          data_y.append(-1) "
   ]
  },
  {
   "cell_type": "code",
   "execution_count": 98,
   "metadata": {},
   "outputs": [
    {
     "name": "stdout",
     "output_type": "stream",
     "text": [
      "shape of x: (12116, 784) shape of y: (12116,)\n"
     ]
    }
   ],
   "source": [
    "data_x = np.asarray(data_x)\n",
    "data_y = np.asarray(data_y)\n",
    "print(\"shape of x: \"+ str(data_x.shape), \"shape of y: \"+str(data_y.shape))"
   ]
  },
  {
   "cell_type": "code",
   "execution_count": 99,
   "metadata": {
    "collapsed": true
   },
   "outputs": [],
   "source": [
    "X_train, X_test, Y_train, Y_test = tts(data_x, data_y, test_size = 0.2, random_state = 5)"
   ]
  },
  {
   "cell_type": "code",
   "execution_count": null,
   "metadata": {
    "collapsed": true
   },
   "outputs": [],
   "source": []
  },
  {
   "cell_type": "code",
   "execution_count": null,
   "metadata": {
    "collapsed": true
   },
   "outputs": [],
   "source": []
  },
  {
   "cell_type": "code",
   "execution_count": null,
   "metadata": {
    "collapsed": true
   },
   "outputs": [],
   "source": []
  },
  {
   "cell_type": "code",
   "execution_count": null,
   "metadata": {
    "collapsed": true
   },
   "outputs": [],
   "source": []
  },
  {
   "cell_type": "code",
   "execution_count": null,
   "metadata": {
    "collapsed": true
   },
   "outputs": [],
   "source": []
  },
  {
   "cell_type": "code",
   "execution_count": null,
   "metadata": {
    "collapsed": true
   },
   "outputs": [],
   "source": []
  },
  {
   "cell_type": "code",
   "execution_count": null,
   "metadata": {
    "collapsed": true
   },
   "outputs": [],
   "source": []
  },
  {
   "cell_type": "code",
   "execution_count": null,
   "metadata": {
    "collapsed": true
   },
   "outputs": [],
   "source": []
  },
  {
   "cell_type": "code",
   "execution_count": null,
   "metadata": {
    "collapsed": true
   },
   "outputs": [],
   "source": []
  },
  {
   "cell_type": "code",
   "execution_count": null,
   "metadata": {
    "collapsed": true
   },
   "outputs": [],
   "source": []
  }
 ],
 "metadata": {
  "kernelspec": {
   "display_name": "Python 3",
   "language": "python",
   "name": "python3"
  },
  "language_info": {
   "codemirror_mode": {
    "name": "ipython",
    "version": 3
   },
   "file_extension": ".py",
   "mimetype": "text/x-python",
   "name": "python",
   "nbconvert_exporter": "python",
   "pygments_lexer": "ipython3",
   "version": "3.6.8"
  }
 },
 "nbformat": 4,
 "nbformat_minor": 2
}
